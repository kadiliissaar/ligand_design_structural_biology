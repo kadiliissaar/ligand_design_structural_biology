{
 "cells": [
  {
   "cell_type": "code",
   "execution_count": 63,
   "id": "unable-satellite",
   "metadata": {},
   "outputs": [],
   "source": [
    "from __future__ import division\n",
    "import pandas as pd\n",
    "import numpy as np\n",
    "import matplotlib.pylab as plt\n",
    "import seaborn as sns\n",
    "\n",
    "sns.set(font_scale=1.5) \n",
    "sns.set_style(\"ticks\")\n",
    "\n",
    "\n",
    "import scipy\n",
    "from sklearn import metrics\n",
    "from sklearn.model_selection import train_test_split\n",
    "from sklearn.ensemble import RandomForestClassifier, RandomForestRegressor\n",
    "from sklearn.metrics import precision_score, accuracy_score, recall_score, roc_auc_score\n",
    "from sklearn.utils import resample\n",
    "\n",
    "pd.set_option('display.max_colwidth', None)\n",
    "RandomSeed = 42\n",
    "np.random.seed(RandomSeed)"
   ]
  },
  {
   "cell_type": "code",
   "execution_count": null,
   "id": "athletic-chick",
   "metadata": {},
   "outputs": [],
   "source": []
  },
  {
   "cell_type": "code",
   "execution_count": null,
   "id": "alone-little",
   "metadata": {},
   "outputs": [],
   "source": []
  },
  {
   "cell_type": "code",
   "execution_count": null,
   "id": "reflected-average",
   "metadata": {},
   "outputs": [],
   "source": []
  },
  {
   "cell_type": "markdown",
   "id": "attempted-technology",
   "metadata": {},
   "source": [
    "# Data"
   ]
  },
  {
   "cell_type": "code",
   "execution_count": 2,
   "id": "apart-savannah",
   "metadata": {},
   "outputs": [],
   "source": [
    "data = pd.read_csv('Data/DATA_with_all_FEATURES.csv')\n",
    "data = data.drop_duplicates(subset = 'Compound ID')\n",
    "data = data.sort_values(by = 'date')"
   ]
  },
  {
   "cell_type": "code",
   "execution_count": null,
   "id": "cosmetic-reaction",
   "metadata": {},
   "outputs": [],
   "source": []
  },
  {
   "cell_type": "markdown",
   "id": "hundred-forward",
   "metadata": {},
   "source": [
    "# First, docked structures fingerprints:"
   ]
  },
  {
   "cell_type": "code",
   "execution_count": 3,
   "id": "encouraging-enclosure",
   "metadata": {},
   "outputs": [
    {
     "name": "stdout",
     "output_type": "stream",
     "text": [
      "Index(['0', '1', '2', '3', '4', '5', 'p_IC50'], dtype='object')\n"
     ]
    }
   ],
   "source": [
    "model = RandomForestClassifier(n_estimators = 100, max_depth = 5, max_features = 'sqrt', random_state = 0)\n",
    "feature_columns = ['0', '1', '2', '3', '4', '5']\n",
    "label = ['p_IC50']\n",
    "ID = ['date']\n",
    "columns = feature_columns + label + ID \n",
    "df_analyse = data[columns]\n",
    "df_analyse = df_analyse.sort_values(by = 'date')\n",
    "df_analyse = df_analyse.drop(columns = ['date'])\n",
    "df_analyse = df_analyse.reset_index(drop = True)\n",
    "\n",
    "bootstrap_fold = 5\n",
    "split = [0.1, 0.3, 0.5, 0.7, 0.9]\n",
    "train_aucs_str = [];\n",
    "test_aucs_str = []\n",
    "\n",
    "for k in range(0, len(split)):\n",
    "    train_size = int(split[k] * df_analyse.shape[0])\n",
    "    train_data = df_analyse.iloc[0:train_size]\n",
    "    train_data_diff = pd.DataFrame()\n",
    "    for i in range(1, train_data.shape[0]):\n",
    "        train_data_diff_add = train_data.diff(periods = i).dropna()\n",
    "        train_data_diff = pd.concat([train_data_diff, train_data_diff_add], axis = 0)\n",
    "    train_data_diff_all = train_data_diff.copy()\n",
    "    train_data_diff = train_data_diff_all[(train_data_diff_all['p_IC50'] > 0.25)  | (train_data_diff_all['p_IC50'] < -0.25)]\n",
    "    train_data_diff = train_data_diff.reset_index(drop = True)\n",
    "\n",
    "    train_labels = train_data_diff['p_IC50']\n",
    "    train_features = train_data_diff.drop(columns = ['p_IC50'])\n",
    "    train_labels_comparison = pd.Series(np.where(train_labels > 0, 0, 1))\n",
    "    model.fit(train_features, train_labels_comparison)\n",
    "    test_data = df_analyse.iloc[train_size:df_analyse.shape[0]]\n",
    "    test_data_start = test_data.copy()\n",
    "    \n",
    "    for j in range(0, bootstrap_fold):\n",
    "        test_data = resample(test_data_start, replace=True, n_samples = test_data.shape[0], random_state=j)\n",
    "        test_data_diff = pd.DataFrame()\n",
    "        for i in range(1, test_data.shape[0]):\n",
    "            test_data_diff_add = test_data.diff(periods = i).dropna()\n",
    "            test_data_diff = pd.concat([test_data_diff, test_data_diff_add], axis = 0)\n",
    "        test_data_diff_all = test_data_diff.copy()\n",
    "        test_data_diff = test_data_diff_all[(test_data_diff_all['p_IC50'] > 0.25)  | (test_data_diff_all['p_IC50'] < -0.25)]\n",
    "        test_data_diff = test_data_diff.reset_index(drop = True)\n",
    "\n",
    "        test_labels = test_data_diff['p_IC50']\n",
    "        test_features = test_data_diff.drop(columns = ['p_IC50'])\n",
    "        test_labels_comparison = pd.Series(np.where(test_labels > 0, 0, 1))\n",
    "\n",
    "        y_score_train = model.predict_proba(train_features)\n",
    "        y_score_test = model.predict_proba(test_features)\n",
    "        test_aucs_str.append(roc_auc_score(test_labels_comparison, y_score_test[:,1]))\n",
    "    train_aucs_str.append(roc_auc_score(train_labels_comparison, y_score_train[:,1]))\n",
    "print(train_data.columns)\n",
    "\n",
    "test_aucs_matrix_str = np.array(test_aucs_str).reshape(len(split), bootstrap_fold)\n",
    "test_auc_bootstrap_str = np.mean(test_aucs_matrix_str, axis = 1)\n",
    "test_auc_bootstrap_str_std = np.std(test_aucs_matrix_str, axis = 1)"
   ]
  },
  {
   "cell_type": "code",
   "execution_count": null,
   "id": "animal-milan",
   "metadata": {},
   "outputs": [],
   "source": []
  },
  {
   "cell_type": "markdown",
   "id": "comparable-lightweight",
   "metadata": {},
   "source": [
    "# Next, docked structures:"
   ]
  },
  {
   "cell_type": "code",
   "execution_count": 4,
   "id": "retired-declaration",
   "metadata": {},
   "outputs": [
    {
     "name": "stdout",
     "output_type": "stream",
     "text": [
      "Index(['0_d', '1_d', '2_d', '3_d', '4_d', '5_d', 'p_IC50'], dtype='object')\n"
     ]
    }
   ],
   "source": [
    "model = RandomForestClassifier(n_estimators = 100, max_depth = 5, max_features = 'sqrt', random_state = 0)\n",
    "feature_columns = ['0_d', '1_d', '2_d', '3_d', '4_d', '5_d']\n",
    "label = ['p_IC50']\n",
    "ID = ['date']\n",
    "columns = feature_columns + label + ID \n",
    "df_analyse = data[columns]\n",
    "df_analyse = df_analyse.sort_values(by = 'date')\n",
    "df_analyse = df_analyse.drop(columns = ['date'])\n",
    "df_analyse = df_analyse.reset_index(drop = True)\n",
    "\n",
    "bootstrap_fold = 5\n",
    "split = [0.1, 0.3, 0.5, 0.7, 0.9]\n",
    "train_aucs_dock = [];\n",
    "test_aucs_dock = []\n",
    "\n",
    "for k in range(0, len(split)):\n",
    "    train_size = int(split[k] * df_analyse.shape[0])\n",
    "    train_data = df_analyse.iloc[0:train_size]\n",
    "    train_data_diff = pd.DataFrame()\n",
    "    for i in range(1, train_data.shape[0]):\n",
    "        train_data_diff_add = train_data.diff(periods = i).dropna()\n",
    "        train_data_diff = pd.concat([train_data_diff, train_data_diff_add], axis = 0)\n",
    "    train_data_diff_all = train_data_diff.copy()\n",
    "    train_data_diff = train_data_diff_all[(train_data_diff_all['p_IC50'] > 0.25)  | (train_data_diff_all['p_IC50'] < -0.25)]\n",
    "    train_data_diff = train_data_diff.reset_index(drop = True)\n",
    "\n",
    "    train_labels = train_data_diff['p_IC50']\n",
    "    train_features = train_data_diff.drop(columns = ['p_IC50'])\n",
    "    train_labels_comparison = pd.Series(np.where(train_labels > 0, 0, 1))\n",
    "    model.fit(train_features, train_labels_comparison)\n",
    "    test_data = df_analyse.iloc[train_size:df_analyse.shape[0]]\n",
    "    test_data_start = test_data.copy()\n",
    "    \n",
    "    for j in range(0, bootstrap_fold):\n",
    "        test_data = resample(test_data_start, replace=True, n_samples = test_data.shape[0], random_state=j)\n",
    "        test_data_diff = pd.DataFrame()\n",
    "        for i in range(1, test_data.shape[0]):\n",
    "            test_data_diff_add = test_data.diff(periods = i).dropna()\n",
    "            test_data_diff = pd.concat([test_data_diff, test_data_diff_add], axis = 0)\n",
    "        test_data_diff_all = test_data_diff.copy()\n",
    "        test_data_diff = test_data_diff_all[(test_data_diff_all['p_IC50'] > 0.25)  | (test_data_diff_all['p_IC50'] < -0.25)]\n",
    "        test_data_diff = test_data_diff.reset_index(drop = True)\n",
    "\n",
    "        test_labels = test_data_diff['p_IC50']\n",
    "        test_features = test_data_diff.drop(columns = ['p_IC50'])\n",
    "        test_labels_comparison = pd.Series(np.where(test_labels > 0, 0, 1))\n",
    "\n",
    "        y_score_train = model.predict_proba(train_features)\n",
    "        y_score_test = model.predict_proba(test_features)\n",
    "        test_aucs_dock.append(roc_auc_score(test_labels_comparison, y_score_test[:,1]))\n",
    "    train_aucs_dock.append(roc_auc_score(train_labels_comparison, y_score_train[:,1]))\n",
    "print(train_data.columns)\n",
    "\n",
    "test_aucs_matrix_dock = np.array(test_aucs_dock).reshape(len(split), bootstrap_fold)\n",
    "test_auc_bootstrap_dock = np.mean(test_aucs_matrix_dock, axis = 1)\n",
    "test_auc_bootstrap_dock_std = np.std(test_aucs_matrix_dock, axis = 1)"
   ]
  },
  {
   "cell_type": "code",
   "execution_count": null,
   "id": "controlled-marks",
   "metadata": {},
   "outputs": [],
   "source": []
  },
  {
   "cell_type": "markdown",
   "id": "prompt-lunch",
   "metadata": {},
   "source": [
    "# Now, hybrid"
   ]
  },
  {
   "cell_type": "code",
   "execution_count": 5,
   "id": "different-makeup",
   "metadata": {},
   "outputs": [
    {
     "name": "stdout",
     "output_type": "stream",
     "text": [
      "Index(['0', '1', '2', '3', '4', '5', 'p_IC50'], dtype='object')\n",
      "Index(['0_d', '1_d', '2_d', '3_d', '4_d', '5_d', 'p_IC50'], dtype='object')\n"
     ]
    }
   ],
   "source": [
    "model = RandomForestClassifier(n_estimators = 100, max_depth = 5, max_features = 'sqrt', random_state = 0)\n",
    "feature_columns = ['0', '1', '2', '3', '4', '5', '0_d', '1_d', '2_d', '3_d', '4_d', '5_d']\n",
    "label = ['p_IC50']\n",
    "ID = ['date']\n",
    "columns = feature_columns + label + ID \n",
    "df_analyse = data[columns]\n",
    "df_analyse = df_analyse.sort_values(by = 'date')\n",
    "df_analyse = df_analyse.drop(columns = ['date'])\n",
    "df_analyse = df_analyse.reset_index(drop = True)\n",
    "\n",
    "bootstrap_fold = 5\n",
    "split = [0.1, 0.3, 0.5, 0.7, 0.9]\n",
    "train_aucs_hybrid = [];\n",
    "test_aucs_hybrid = []\n",
    "\n",
    "\n",
    "for k in range(0, len(split)):\n",
    "    train_size = int(split[k] * df_analyse.shape[0])\n",
    "    train_data = df_analyse.iloc[0:train_size]\n",
    "    train_data = train_data.drop(columns = ['0_d', '1_d', '2_d', '3_d', '4_d', '5_d'])\n",
    "\n",
    "    train_data_diff = pd.DataFrame()\n",
    "    for i in range(1, train_data.shape[0]):\n",
    "        train_data_diff_add = train_data.diff(periods = i).dropna()\n",
    "        train_data_diff = pd.concat([train_data_diff, train_data_diff_add], axis = 0)\n",
    "    train_data_diff_all = train_data_diff.copy()\n",
    "    train_data_diff = train_data_diff_all[(train_data_diff_all['p_IC50'] > 0.25)  | (train_data_diff_all['p_IC50'] < -0.25)]\n",
    "    train_data_diff = train_data_diff.reset_index(drop = True)\n",
    "\n",
    "    train_labels = train_data_diff['p_IC50']\n",
    "    train_features = train_data_diff.drop(columns = ['p_IC50'])\n",
    "    train_labels_comparison = pd.Series(np.where(train_labels > 0, 0, 1))\n",
    "    model.fit(train_features, train_labels_comparison)\n",
    "    \n",
    "    test_data = df_analyse.iloc[train_size:df_analyse.shape[0]]\n",
    "    test_data = test_data.drop(columns = ['0', '1', '2', '3', '4', '5'])\n",
    "    test_data_start = test_data.copy()\n",
    "    \n",
    "    for j in range(0, bootstrap_fold):\n",
    "        test_data = resample(test_data_start, replace=True, n_samples = test_data.shape[0], random_state=j)\n",
    "        test_data_diff = pd.DataFrame()\n",
    "        for i in range(1, test_data.shape[0]):\n",
    "            test_data_diff_add = test_data.diff(periods = i).dropna()\n",
    "            test_data_diff = pd.concat([test_data_diff, test_data_diff_add], axis = 0)\n",
    "        test_data_diff_all = test_data_diff.copy()\n",
    "        test_data_diff = test_data_diff_all[(test_data_diff_all['p_IC50'] > 0.25)  | (test_data_diff_all['p_IC50'] < -0.25)]\n",
    "        test_data_diff = test_data_diff.reset_index(drop = True)\n",
    "\n",
    "        test_labels = test_data_diff['p_IC50']\n",
    "        test_features = test_data_diff.drop(columns = ['p_IC50'])\n",
    "        test_labels_comparison = pd.Series(np.where(test_labels > 0, 0, 1))\n",
    "\n",
    "        y_score_train = model.predict_proba(train_features)\n",
    "        y_score_test = model.predict_proba(test_features)\n",
    "        test_aucs_hybrid.append(roc_auc_score(test_labels_comparison, y_score_test[:,1]))\n",
    "    train_aucs_hybrid.append(roc_auc_score(train_labels_comparison, y_score_train[:,1]))\n",
    "print(train_data.columns)\n",
    "print(test_data.columns)\n",
    "\n",
    "test_aucs_matrix_hybrid = np.array(test_aucs_hybrid).reshape(len(split), bootstrap_fold)\n",
    "test_auc_bootstrap_hybrid = np.mean(test_aucs_matrix_hybrid, axis = 1)\n",
    "test_auc_bootstrap_hybrid_std = np.std(test_aucs_matrix_hybrid, axis = 1)"
   ]
  },
  {
   "cell_type": "code",
   "execution_count": null,
   "id": "referenced-panama",
   "metadata": {},
   "outputs": [],
   "source": []
  },
  {
   "cell_type": "markdown",
   "id": "false-moderator",
   "metadata": {},
   "source": [
    "# Finally, Morgan:"
   ]
  },
  {
   "cell_type": "code",
   "execution_count": 6,
   "id": "aquatic-platform",
   "metadata": {},
   "outputs": [
    {
     "name": "stdout",
     "output_type": "stream",
     "text": [
      "Index(['0_Mgn', '1_Mgn', '2_Mgn', '3_Mgn', '4_Mgn', '5_Mgn', '6_Mgn', '7_Mgn',\n",
      "       '8_Mgn', '9_Mgn',\n",
      "       ...\n",
      "       '503_Mgn', '504_Mgn', '505_Mgn', '506_Mgn', '507_Mgn', '508_Mgn',\n",
      "       '509_Mgn', '510_Mgn', '511_Mgn', 'p_IC50'],\n",
      "      dtype='object', length=513)\n"
     ]
    }
   ],
   "source": [
    "model = RandomForestClassifier(n_estimators = 100, max_depth = 5, max_features = 'sqrt', random_state = 0)\n",
    "feature_columns = list(data.columns[data.columns.str.contains('Mgn')])\n",
    "label = ['p_IC50']\n",
    "ID = ['date']\n",
    "columns = feature_columns + label + ID \n",
    "df_analyse = data[columns]\n",
    "df_analyse = df_analyse.sort_values(by = 'date')\n",
    "df_analyse = df_analyse.drop(columns = ['date'])\n",
    "df_analyse = df_analyse.reset_index(drop = True)\n",
    "\n",
    "bootstrap_fold = 5\n",
    "split = [0.1, 0.3, 0.5, 0.7, 0.9]\n",
    "train_aucs_MFP = [];\n",
    "test_aucs_MFP = []\n",
    "\n",
    "for k in range(0, len(split)):\n",
    "    train_size = int(split[k] * df_analyse.shape[0])\n",
    "    train_data = df_analyse.iloc[0:train_size]\n",
    "    train_data_diff = pd.DataFrame()\n",
    "    for i in range(1, train_data.shape[0]):\n",
    "        train_data_diff_add = train_data.diff(periods = i).dropna()\n",
    "        train_data_diff = pd.concat([train_data_diff, train_data_diff_add], axis = 0)\n",
    "    train_data_diff_all = train_data_diff.copy()\n",
    "    train_data_diff = train_data_diff_all[(train_data_diff_all['p_IC50'] > 0.25)  | (train_data_diff_all['p_IC50'] < -0.25)]\n",
    "    train_data_diff = train_data_diff.reset_index(drop = True)\n",
    "\n",
    "    train_labels = train_data_diff['p_IC50']\n",
    "    train_features = train_data_diff.drop(columns = ['p_IC50'])\n",
    "    train_labels_comparison = pd.Series(np.where(train_labels > 0, 0, 1))\n",
    "    model.fit(train_features, train_labels_comparison)\n",
    "    test_data = df_analyse.iloc[train_size:df_analyse.shape[0]]\n",
    "    test_data_start = test_data.copy()\n",
    "    \n",
    "    for j in range(0, bootstrap_fold):\n",
    "        test_data = resample(test_data_start, replace=True, n_samples = test_data.shape[0], random_state=j)\n",
    "        test_data_diff = pd.DataFrame()\n",
    "        for i in range(1, test_data.shape[0]):\n",
    "            test_data_diff_add = test_data.diff(periods = i).dropna()\n",
    "            test_data_diff = pd.concat([test_data_diff, test_data_diff_add], axis = 0)\n",
    "        test_data_diff_all = test_data_diff.copy()\n",
    "        test_data_diff = test_data_diff_all[(test_data_diff_all['p_IC50'] > 0.25)  | (test_data_diff_all['p_IC50'] < -0.25)]\n",
    "        test_data_diff = test_data_diff.reset_index(drop = True)\n",
    "\n",
    "        test_labels = test_data_diff['p_IC50']\n",
    "        test_features = test_data_diff.drop(columns = ['p_IC50'])\n",
    "        test_labels_comparison = pd.Series(np.where(test_labels > 0, 0, 1))\n",
    "\n",
    "        y_score_train = model.predict_proba(train_features)\n",
    "        y_score_test = model.predict_proba(test_features)\n",
    "        test_aucs_MFP.append(roc_auc_score(test_labels_comparison, y_score_test[:,1]))\n",
    "    train_aucs_MFP.append(roc_auc_score(train_labels_comparison, y_score_train[:,1]))\n",
    "print(train_data.columns)\n",
    "\n",
    "test_aucs_matrix_MFP = np.array(test_aucs_MFP).reshape(len(split), bootstrap_fold)\n",
    "test_auc_bootstrap_MFP = np.mean(test_aucs_matrix_MFP, axis = 1)\n",
    "test_auc_bootstrap_MFP_std = np.std(test_aucs_matrix_MFP, axis = 1)\n",
    "\n"
   ]
  },
  {
   "cell_type": "markdown",
   "id": "related-warren",
   "metadata": {},
   "source": [
    "# Comparison"
   ]
  },
  {
   "cell_type": "code",
   "execution_count": 7,
   "id": "eight-gazette",
   "metadata": {},
   "outputs": [
    {
     "data": {
      "image/png": "[encoded data removed]",
      "text/plain": [
       "<Figure size 432x288 with 1 Axes>"
      ]
     },
     "metadata": {},
     "output_type": "display_data"
    }
   ],
   "source": [
    "plt.errorbar(split, test_auc_bootstrap_str, yerr = test_auc_bootstrap_str_std, label = 'on crystal structures, future', linewidth = 3)\n",
    "plt.errorbar(split, test_auc_bootstrap_hybrid, yerr = test_auc_bootstrap_hybrid_std, label = 'Hybrid, future', linewidth = 3)\n",
    "plt.errorbar(split, test_auc_bootstrap_MFP, yerr = test_auc_bootstrap_MFP_std, label = 'Ligand only (Morgan FP), future', linewidth = 3)\n",
    "plt.errorbar(split, test_auc_bootstrap_dock, yerr = test_auc_bootstrap_dock_std, label = 'docked data, future', linewidth = 3)\n",
    "plt.xlim([0.09, 1])\n",
    "plt.ylim([0.45, 1])\n",
    "plt.xlabel('Split (by time)')\n",
    "plt.ylabel('AUROC')\n",
    "plt.legend(bbox_to_anchor = (1.05, 1), loc='upper left')\n",
    "plt.savefig('Results/future_comparion_of_approaches_BS' + str(bootstrap_fold) + '.pdf')\n",
    "plt.show()"
   ]
  },
  {
   "cell_type": "code",
   "execution_count": null,
   "id": "about-detection",
   "metadata": {},
   "outputs": [],
   "source": []
  },
  {
   "cell_type": "code",
   "execution_count": null,
   "id": "selective-assault",
   "metadata": {},
   "outputs": [],
   "source": []
  },
  {
   "cell_type": "code",
   "execution_count": null,
   "id": "usual-bangkok",
   "metadata": {},
   "outputs": [],
   "source": []
  },
  {
   "cell_type": "markdown",
   "id": "cooperative-daisy",
   "metadata": {},
   "source": [
    "# Identical but with scaffold split explicitly introduced:"
   ]
  },
  {
   "cell_type": "markdown",
   "id": "capital-sodium",
   "metadata": {},
   "source": [
    "# First on crystal structures:"
   ]
  },
  {
   "cell_type": "code",
   "execution_count": null,
   "id": "corresponding-programming",
   "metadata": {},
   "outputs": [],
   "source": []
  },
  {
   "cell_type": "code",
   "execution_count": 8,
   "id": "sufficient-bennett",
   "metadata": {},
   "outputs": [],
   "source": [
    "bootstrap_fold = 25\n",
    "time_split = [0.2, 0.4, 0.5, 0.6, 0.7, 0.8]"
   ]
  },
  {
   "cell_type": "code",
   "execution_count": 9,
   "id": "starting-millennium",
   "metadata": {},
   "outputs": [
    {
     "name": "stdout",
     "output_type": "stream",
     "text": [
      "Index(['0', '1', '2', '3', '4', '5', 'p_IC50'], dtype='object')\n"
     ]
    }
   ],
   "source": [
    "model = RandomForestClassifier(n_estimators = 100, max_depth = 5, max_features = 'sqrt', random_state = 0)\n",
    "feature_columns = ['0', '1', '2', '3', '4', '5']\n",
    "label = ['p_IC50']\n",
    "inf_columns = ['scaffold']\n",
    "columns = feature_columns + label + inf_columns\n",
    "df_analyse = data[columns]\n",
    "df_analyse = df_analyse.reset_index(drop = True)\n",
    "train_aucs_str_sc = []\n",
    "test_aucs_str_sc = []\n",
    "\n",
    "for k in range(0, len(time_split)):\n",
    "    train_size = int(time_split[k] * df_analyse.shape[0])\n",
    "    train_data = df_analyse.iloc[0:train_size]\n",
    "    test_data = df_analyse.iloc[train_size:df_analyse.shape[0]]\n",
    "\n",
    "    train_data = train_data[train_data['scaffold'].isin(['Aminopyridine-like', 'Isoquinoline'])]\n",
    "    test_data = test_data[test_data['scaffold'].isin(['Benzotriazole', 'Quinolone'])]\n",
    "    train_data = train_data.drop(columns = ['scaffold'])\n",
    "    test_data = test_data.drop(columns = ['scaffold'])\n",
    "\n",
    "    train_data_diff = pd.DataFrame()\n",
    "    for i in range(1, train_data.shape[0]):\n",
    "        train_data_diff_add = train_data.diff(periods = i).dropna()\n",
    "        train_data_diff = pd.concat([train_data_diff, train_data_diff_add], axis = 0)\n",
    "    train_data_diff_all = train_data_diff.copy()\n",
    "    train_data_diff = train_data_diff_all[(train_data_diff_all['p_IC50'] > 0.25)  | (train_data_diff_all['p_IC50'] < -0.25)]\n",
    "    train_data_diff = train_data_diff.reset_index(drop = True)\n",
    "\n",
    "    train_labels = train_data_diff['p_IC50']\n",
    "    train_features = train_data_diff.drop(columns = ['p_IC50'])\n",
    "    train_labels_comparison = pd.Series(np.where(train_labels > 0, 0, 1))\n",
    "    model.fit(train_features, train_labels_comparison)\n",
    "    \n",
    "    test_data_start = test_data.copy()\n",
    "    \n",
    "    for j in range(0, bootstrap_fold):\n",
    "        test_data = resample(test_data_start, replace=True, n_samples = test_data.shape[0], random_state=j)\n",
    "        test_data_diff = pd.DataFrame()\n",
    "        for i in range(1, test_data.shape[0]):\n",
    "            test_data_diff_add = test_data.diff(periods = i).dropna()\n",
    "            test_data_diff = pd.concat([test_data_diff, test_data_diff_add], axis = 0)\n",
    "        test_data_diff_all = test_data_diff.copy()\n",
    "        test_data_diff = test_data_diff_all[(test_data_diff_all['p_IC50'] > 0.25)  | (test_data_diff_all['p_IC50'] < -0.25)]\n",
    "        test_data_diff = test_data_diff.reset_index(drop = True)\n",
    "\n",
    "        test_labels = test_data_diff['p_IC50']\n",
    "        test_features = test_data_diff.drop(columns = ['p_IC50'])\n",
    "        test_labels_comparison = pd.Series(np.where(test_labels > 0, 0, 1))\n",
    "\n",
    "        y_score_train = model.predict_proba(train_features)\n",
    "        y_score_test = model.predict_proba(test_features)\n",
    "        test_aucs_str_sc.append(roc_auc_score(test_labels_comparison, y_score_test[:,1]))\n",
    "    train_aucs_str_sc.append(roc_auc_score(train_labels_comparison, y_score_train[:,1]))\n",
    "print(train_data.columns)\n",
    "\n",
    "test_aucs_matrix_str_sc = np.array(test_aucs_str_sc).reshape(len(time_split), bootstrap_fold)\n",
    "test_auc_bootstrap_str_sc = np.mean(test_aucs_matrix_str_sc, axis = 1)\n",
    "test_auc_bootstrap_str_std_sc = np.std(test_aucs_matrix_str_sc, axis = 1)"
   ]
  },
  {
   "cell_type": "code",
   "execution_count": null,
   "id": "acoustic-happiness",
   "metadata": {},
   "outputs": [],
   "source": []
  },
  {
   "cell_type": "markdown",
   "id": "welsh-lounge",
   "metadata": {},
   "source": [
    "# Next, on docked structures:"
   ]
  },
  {
   "cell_type": "code",
   "execution_count": 10,
   "id": "dedicated-hungary",
   "metadata": {},
   "outputs": [
    {
     "name": "stdout",
     "output_type": "stream",
     "text": [
      "Index(['0_d', '1_d', '2_d', '3_d', '4_d', '5_d', 'p_IC50'], dtype='object')\n"
     ]
    }
   ],
   "source": [
    "model = RandomForestClassifier(n_estimators = 100, max_depth = 5, max_features = 'sqrt', random_state = 0)\n",
    "feature_columns = ['0_d', '1_d', '2_d', '3_d', '4_d', '5_d']\n",
    "label = ['p_IC50']\n",
    "inf_columns = ['scaffold']\n",
    "columns = feature_columns + label + inf_columns\n",
    "df_analyse = data[columns]\n",
    "df_analyse = df_analyse.reset_index(drop = True)\n",
    "\n",
    "train_aucs_dock_sc = []\n",
    "test_aucs_dock_sc = []\n",
    "\n",
    "for k in range(0, len(time_split)):\n",
    "    train_size = int(time_split[k] * df_analyse.shape[0])\n",
    "    train_data = df_analyse.iloc[0:train_size]\n",
    "    test_data = df_analyse.iloc[train_size:df_analyse.shape[0]]\n",
    "\n",
    "    train_data = train_data[train_data['scaffold'].isin(['Aminopyridine-like', 'Isoquinoline'])]\n",
    "    test_data = test_data[test_data['scaffold'].isin(['Benzotriazole', 'Quinolone'])]\n",
    "    train_data = train_data.drop(columns = ['scaffold'])\n",
    "    test_data = test_data.drop(columns = ['scaffold'])\n",
    "\n",
    "    train_data_diff = pd.DataFrame()\n",
    "    for i in range(1, train_data.shape[0]):\n",
    "        train_data_diff_add = train_data.diff(periods = i).dropna()\n",
    "        train_data_diff = pd.concat([train_data_diff, train_data_diff_add], axis = 0)\n",
    "    train_data_diff_all = train_data_diff.copy()\n",
    "    train_data_diff = train_data_diff_all[(train_data_diff_all['p_IC50'] > 0.25)  | (train_data_diff_all['p_IC50'] < -0.25)]\n",
    "    train_data_diff = train_data_diff.reset_index(drop = True)\n",
    "\n",
    "    train_labels = train_data_diff['p_IC50']\n",
    "    train_features = train_data_diff.drop(columns = ['p_IC50'])\n",
    "    train_labels_comparison = pd.Series(np.where(train_labels > 0, 0, 1))\n",
    "    model.fit(train_features, train_labels_comparison)\n",
    "    \n",
    "    test_data_start = test_data.copy()\n",
    "    \n",
    "    for j in range(0, bootstrap_fold):\n",
    "        test_data = resample(test_data_start, replace=True, n_samples = test_data.shape[0], random_state=j)\n",
    "        test_data_diff = pd.DataFrame()\n",
    "        for i in range(1, test_data.shape[0]):\n",
    "            test_data_diff_add = test_data.diff(periods = i).dropna()\n",
    "            test_data_diff = pd.concat([test_data_diff, test_data_diff_add], axis = 0)\n",
    "        test_data_diff_all = test_data_diff.copy()\n",
    "        test_data_diff = test_data_diff_all[(test_data_diff_all['p_IC50'] > 0.25)  | (test_data_diff_all['p_IC50'] < -0.25)]\n",
    "        test_data_diff = test_data_diff.reset_index(drop = True)\n",
    "\n",
    "        test_labels = test_data_diff['p_IC50']\n",
    "        test_features = test_data_diff.drop(columns = ['p_IC50'])\n",
    "        test_labels_comparison = pd.Series(np.where(test_labels > 0, 0, 1))\n",
    "\n",
    "        y_score_train = model.predict_proba(train_features)\n",
    "        y_score_test = model.predict_proba(test_features)\n",
    "        test_aucs_dock_sc.append(roc_auc_score(test_labels_comparison, y_score_test[:,1]))\n",
    "    train_aucs_dock_sc.append(roc_auc_score(train_labels_comparison, y_score_train[:,1]))\n",
    "print(train_data.columns)\n",
    "\n",
    "test_aucs_matrix_dock_sc = np.array(test_aucs_dock_sc).reshape(len(time_split), bootstrap_fold)\n",
    "test_auc_bootstrap_dock_sc = np.mean(test_aucs_matrix_dock_sc, axis = 1)\n",
    "test_auc_bootstrap_dock_std_sc = np.std(test_aucs_matrix_dock_sc, axis = 1)"
   ]
  },
  {
   "cell_type": "code",
   "execution_count": null,
   "id": "structured-transition",
   "metadata": {},
   "outputs": [],
   "source": []
  },
  {
   "cell_type": "markdown",
   "id": "further-bouquet",
   "metadata": {},
   "source": [
    "# Now, on hybrid:"
   ]
  },
  {
   "cell_type": "code",
   "execution_count": 11,
   "id": "changing-mileage",
   "metadata": {},
   "outputs": [
    {
     "name": "stdout",
     "output_type": "stream",
     "text": [
      "Index(['0', '1', '2', '3', '4', '5', 'p_IC50'], dtype='object')\n",
      "Index(['0_d', '1_d', '2_d', '3_d', '4_d', '5_d', 'p_IC50'], dtype='object')\n"
     ]
    }
   ],
   "source": [
    "model = RandomForestClassifier(n_estimators = 100, max_depth = 5, max_features = 'sqrt', random_state = 0)\n",
    "feature_columns = ['0', '1', '2', '3', '4', '5', '0_d', '1_d', '2_d', '3_d', '4_d', '5_d']\n",
    "label = ['p_IC50']\n",
    "inf_columns = ['scaffold']\n",
    "columns = feature_columns + label + inf_columns\n",
    "df_analyse = data[columns]\n",
    "df_analyse = df_analyse.reset_index(drop = True)\n",
    "\n",
    "train_aucs_hybrid_sc = []\n",
    "test_aucs_hybrid_sc = []\n",
    "\n",
    "for k in range(0, len(time_split)):\n",
    "    train_size = int(time_split[k] * df_analyse.shape[0])\n",
    "    train_data = df_analyse.iloc[0:train_size]\n",
    "    test_data = df_analyse.iloc[train_size:df_analyse.shape[0]]\n",
    "    train_data = train_data.drop(columns = ['0_d', '1_d', '2_d', '3_d', '4_d', '5_d'])\n",
    "    test_data = test_data.drop(columns = ['0', '1', '2', '3', '4', '5'])\n",
    "\n",
    "    train_data = train_data[train_data['scaffold'].isin(['Aminopyridine-like', 'Isoquinoline'])]\n",
    "    test_data = test_data[test_data['scaffold'].isin(['Benzotriazole', 'Quinolone'])]\n",
    "    train_data = train_data.drop(columns = ['scaffold'])\n",
    "    test_data = test_data.drop(columns = ['scaffold'])\n",
    "\n",
    "    train_data_diff = pd.DataFrame()\n",
    "    for i in range(1, train_data.shape[0]):\n",
    "        train_data_diff_add = train_data.diff(periods = i).dropna()\n",
    "        train_data_diff = pd.concat([train_data_diff, train_data_diff_add], axis = 0)\n",
    "    train_data_diff_all = train_data_diff.copy()\n",
    "    train_data_diff = train_data_diff_all[(train_data_diff_all['p_IC50'] > 0.25)  | (train_data_diff_all['p_IC50'] < -0.25)]\n",
    "    train_data_diff = train_data_diff.reset_index(drop = True)\n",
    "\n",
    "    train_labels = train_data_diff['p_IC50']\n",
    "    train_features = train_data_diff.drop(columns = ['p_IC50'])\n",
    "    train_labels_comparison = pd.Series(np.where(train_labels > 0, 0, 1))\n",
    "    model.fit(train_features, train_labels_comparison)\n",
    "    \n",
    "    test_data_start = test_data.copy()\n",
    "    \n",
    "    for j in range(0, bootstrap_fold):\n",
    "        test_data = resample(test_data_start, replace=True, n_samples = test_data.shape[0], random_state=j)\n",
    "        test_data_diff = pd.DataFrame()\n",
    "        for i in range(1, test_data.shape[0]):\n",
    "            test_data_diff_add = test_data.diff(periods = i).dropna()\n",
    "            test_data_diff = pd.concat([test_data_diff, test_data_diff_add], axis = 0)\n",
    "        test_data_diff_all = test_data_diff.copy()\n",
    "        test_data_diff = test_data_diff_all[(test_data_diff_all['p_IC50'] > 0.25)  | (test_data_diff_all['p_IC50'] < -0.25)]\n",
    "        test_data_diff = test_data_diff.reset_index(drop = True)\n",
    "\n",
    "        test_labels = test_data_diff['p_IC50']\n",
    "        test_features = test_data_diff.drop(columns = ['p_IC50'])\n",
    "        test_labels_comparison = pd.Series(np.where(test_labels > 0, 0, 1))\n",
    "\n",
    "        y_score_train = model.predict_proba(train_features)\n",
    "        y_score_test = model.predict_proba(test_features)\n",
    "        test_aucs_hybrid_sc.append(roc_auc_score(test_labels_comparison, y_score_test[:,1]))\n",
    "    train_aucs_hybrid_sc.append(roc_auc_score(train_labels_comparison, y_score_train[:,1]))\n",
    "print(train_data.columns)\n",
    "print(test_data.columns)\n",
    "\n",
    "\n",
    "test_aucs_matrix_hybrid_sc = np.array(test_aucs_hybrid_sc).reshape(len(time_split), bootstrap_fold)\n",
    "test_auc_bootstrap_hybrid_sc = np.mean(test_aucs_matrix_hybrid_sc, axis = 1)\n",
    "test_auc_bootstrap_hybrid_std_sc = np.std(test_aucs_matrix_hybrid_sc, axis = 1)"
   ]
  },
  {
   "cell_type": "code",
   "execution_count": null,
   "id": "adult-algeria",
   "metadata": {},
   "outputs": [],
   "source": []
  },
  {
   "cell_type": "markdown",
   "id": "golden-projector",
   "metadata": {},
   "source": [
    "# Finally, Morgan:"
   ]
  },
  {
   "cell_type": "code",
   "execution_count": 12,
   "id": "comfortable-guinea",
   "metadata": {},
   "outputs": [
    {
     "name": "stdout",
     "output_type": "stream",
     "text": [
      "Index(['0_Mgn', '1_Mgn', '2_Mgn', '3_Mgn', '4_Mgn', '5_Mgn', '6_Mgn', '7_Mgn',\n",
      "       '8_Mgn', '9_Mgn',\n",
      "       ...\n",
      "       '503_Mgn', '504_Mgn', '505_Mgn', '506_Mgn', '507_Mgn', '508_Mgn',\n",
      "       '509_Mgn', '510_Mgn', '511_Mgn', 'p_IC50'],\n",
      "      dtype='object', length=513)\n"
     ]
    }
   ],
   "source": [
    "model = RandomForestClassifier(n_estimators = 100, max_depth = 5, max_features = 'sqrt', random_state = 0)\n",
    "feature_columns = list(data.columns[data.columns.str.contains('Mgn')])\n",
    "label = ['p_IC50']\n",
    "inf_columns = ['scaffold']\n",
    "columns = feature_columns + label + inf_columns\n",
    "df_analyse = data[columns]\n",
    "df_analyse = df_analyse.reset_index(drop = True)\n",
    "\n",
    "train_aucs_MFP_sc = []\n",
    "test_aucs_MFP_sc = []\n",
    "\n",
    "for k in range(0, len(time_split)):\n",
    "    train_size = int(time_split[k] * df_analyse.shape[0])\n",
    "    train_data = df_analyse.iloc[0:train_size]\n",
    "    test_data = df_analyse.iloc[train_size:df_analyse.shape[0]]\n",
    "\n",
    "    train_data = train_data[train_data['scaffold'].isin(['Aminopyridine-like', 'Isoquinoline'])]\n",
    "    test_data = test_data[test_data['scaffold'].isin(['Benzotriazole', 'Quinolone'])]\n",
    "    train_data = train_data.drop(columns = ['scaffold'])\n",
    "    test_data = test_data.drop(columns = ['scaffold'])\n",
    "\n",
    "    train_data_diff = pd.DataFrame()\n",
    "    for i in range(1, train_data.shape[0]):\n",
    "        train_data_diff_add = train_data.diff(periods = i).dropna()\n",
    "        train_data_diff = pd.concat([train_data_diff, train_data_diff_add], axis = 0)\n",
    "    train_data_diff_all = train_data_diff.copy()\n",
    "    train_data_diff = train_data_diff_all[(train_data_diff_all['p_IC50'] > 0.25)  | (train_data_diff_all['p_IC50'] < -0.25)]\n",
    "    train_data_diff = train_data_diff.reset_index(drop = True)\n",
    "\n",
    "    train_labels = train_data_diff['p_IC50']\n",
    "    train_features = train_data_diff.drop(columns = ['p_IC50'])\n",
    "    train_labels_comparison = pd.Series(np.where(train_labels > 0, 0, 1))\n",
    "    model.fit(train_features, train_labels_comparison)\n",
    "    \n",
    "    test_data_start = test_data.copy()\n",
    "    \n",
    "    for j in range(0, bootstrap_fold):\n",
    "        test_data = resample(test_data_start, replace=True, n_samples = test_data.shape[0], random_state=j)\n",
    "        test_data_diff = pd.DataFrame()\n",
    "        for i in range(1, test_data.shape[0]):\n",
    "            test_data_diff_add = test_data.diff(periods = i).dropna()\n",
    "            test_data_diff = pd.concat([test_data_diff, test_data_diff_add], axis = 0)\n",
    "        test_data_diff_all = test_data_diff.copy()\n",
    "        test_data_diff = test_data_diff_all[(test_data_diff_all['p_IC50'] > 0.25)  | (test_data_diff_all['p_IC50'] < -0.25)]\n",
    "        test_data_diff = test_data_diff.reset_index(drop = True)\n",
    "\n",
    "        test_labels = test_data_diff['p_IC50']\n",
    "        test_features = test_data_diff.drop(columns = ['p_IC50'])\n",
    "        test_labels_comparison = pd.Series(np.where(test_labels > 0, 0, 1))\n",
    "\n",
    "        y_score_train = model.predict_proba(train_features)\n",
    "        y_score_test = model.predict_proba(test_features)\n",
    "        test_aucs_MFP_sc.append(roc_auc_score(test_labels_comparison, y_score_test[:,1]))\n",
    "    train_aucs_MFP_sc.append(roc_auc_score(train_labels_comparison, y_score_train[:,1]))\n",
    "print(train_data.columns)\n",
    "\n",
    "test_aucs_matrix_MFP_sc = np.array(test_aucs_MFP_sc).reshape(len(time_split), bootstrap_fold)\n",
    "test_auc_bootstrap_MFP_sc = np.mean(test_aucs_matrix_MFP_sc, axis = 1)\n",
    "test_auc_bootstrap_MFP_std_sc = np.std(test_aucs_matrix_MFP_sc, axis = 1)"
   ]
  },
  {
   "cell_type": "code",
   "execution_count": null,
   "id": "designing-headquarters",
   "metadata": {},
   "outputs": [],
   "source": []
  },
  {
   "cell_type": "markdown",
   "id": "fluid-wonder",
   "metadata": {},
   "source": [
    "# Comparison"
   ]
  },
  {
   "cell_type": "code",
   "execution_count": 86,
   "id": "extended-aaron",
   "metadata": {},
   "outputs": [
    {
     "name": "stdout",
     "output_type": "stream",
     "text": [
      "39     20200510\n",
      "79     20200515\n",
      "99     20200516\n",
      "118    20200617\n",
      "138    20200728\n",
      "158    20200826\n",
      "Name: date, dtype: int64\n",
      "20200316\n"
     ]
    }
   ],
   "source": [
    "indeces = [int(x* df_analyse.shape[0]) for x in time_split]\n",
    "print(data['date'].loc[indeces])\n",
    "print(data['date'].loc[0])\n",
    "months = [1.7, 2, 3, 4.3, 5.4]"
   ]
  },
  {
   "cell_type": "code",
   "execution_count": 14,
   "id": "urban-infrastructure",
   "metadata": {},
   "outputs": [],
   "source": [
    "data = data.reset_index(drop = True)\n",
    "maximums = []\n",
    "for i in range(0, len(data['p_IC50'])):\n",
    "    maximums.append(np.max(data['p_IC50'].iloc[0:i]))\n",
    "data['p_IC50_max'] = maximums"
   ]
  },
  {
   "cell_type": "code",
   "execution_count": 91,
   "id": "commercial-stuart",
   "metadata": {},
   "outputs": [
    {
     "data": {
      "text/plain": [
       "[39.6, 79.2, 99.0, 118.8, 138.6, 158.4]"
      ]
     },
     "execution_count": 91,
     "metadata": {},
     "output_type": "execute_result"
    }
   ],
   "source": [
    "[data.shape[0]*x for x in time_split]"
   ]
  },
  {
   "cell_type": "code",
   "execution_count": 92,
   "id": "curious-flavor",
   "metadata": {},
   "outputs": [
    {
     "data": {
      "image/png": "[encoded data removed]",
      "text/plain": [
       "<Figure size 432x288 with 2 Axes>"
      ]
     },
     "metadata": {},
     "output_type": "display_data"
    }
   ],
   "source": [
    "sns.set(font_scale=1.3) \n",
    "sns.set_style(\"ticks\")\n",
    "sns.set_style(\"white\")\n",
    "\n",
    "fig, ax = plt.subplots()\n",
    "\n",
    "#plt.errorbar(time_split, test_auc_bootstrap_str_sc,   yerr = test_auc_bootstrap_str_std_sc, label = 'on crystal structures, future', linewidth = 3)\n",
    "ax.errorbar([data.shape[0]*x for x in time_split], test_auc_bootstrap_MFP_sc,   yerr = test_auc_bootstrap_MFP_std_sc , color = 'deeppink', label = 'Ligand-based learning', linewidth = 3)\n",
    "ax.errorbar([data.shape[0]*x + 1 for x in time_split], test_auc_bootstrap_dock_sc,  yerr = test_auc_bootstrap_dock_std_sc, color = 'olive', label = 'Docking', linewidth = 3)\n",
    "ax.errorbar([data.shape[0]*x + 2 for x in time_split], test_auc_bootstrap_hybrid_sc,yerr = test_auc_bootstrap_hybrid_std_sc, color = 'green', label = 'Structure-based learning', linewidth = 3)\n",
    "#ax.errorbar(months, test_auc_bootstrap_MFP_sc,   yerr = test_auc_bootstrap_MFP_std_sc , color = 'deeppink', label = 'Ligand-based learning', linewidth = 3)\n",
    "#ax.errorbar(months, test_auc_bootstrap_dock_sc,  yerr = test_auc_bootstrap_dock_std_sc, color = 'olive', label = 'Docking', linewidth = 3)\n",
    "#ax.errorbar(months, test_auc_bootstrap_hybrid_sc,yerr = test_auc_bootstrap_hybrid_std_sc, color = 'green', label = 'Structure-based learning', linewidth = 3)\n",
    "\n",
    "ax.set_ylabel('AUROC')\n",
    "\n",
    "data = data.reset_index(drop = True)\n",
    "ax2=ax.twinx()\n",
    "ax2.plot(data['p_IC50_max'], color = 'k', linestyle = '--', linewidth = 2, label = 'pIC50, maximum')\n",
    "ax2.set_xlim([40, 180])\n",
    "ax2.set_xlabel('# structures (chronological)')\n",
    "ax2.set_ylabel('pIC50')\n",
    "#ax.legend(bbox_to_anchor = (1.05, 1), loc='upper left')\n",
    "#ax2.legend(bbox_to_anchor = (1.05, 1), loc='upper left')\n",
    "ax.legend(loc = 2, fontsize = 12)\n",
    "ax2.legend(loc = 8, fontsize = 12)\n",
    "plt.savefig('Results/future_comparion_of_approaches_BS' + str(bootstrap_fold) + '_scaffold_split.pdf')\n",
    "plt.show()\n",
    "\n"
   ]
  },
  {
   "cell_type": "code",
   "execution_count": 85,
   "id": "spiritual-dimension",
   "metadata": {},
   "outputs": [
    {
     "name": "stdout",
     "output_type": "stream",
     "text": [
      "39     20200510\n",
      "79     20200515\n",
      "99     20200516\n",
      "118    20200617\n",
      "138    20200728\n",
      "158    20200826\n",
      "Name: date, dtype: int64\n",
      "20200316\n"
     ]
    }
   ],
   "source": []
  },
  {
   "cell_type": "code",
   "execution_count": null,
   "id": "blind-conversation",
   "metadata": {},
   "outputs": [],
   "source": []
  },
  {
   "cell_type": "code",
   "execution_count": 84,
   "id": "wound-spanking",
   "metadata": {},
   "outputs": [],
   "source": []
  },
  {
   "cell_type": "code",
   "execution_count": null,
   "id": "prepared-benchmark",
   "metadata": {},
   "outputs": [],
   "source": []
  },
  {
   "cell_type": "code",
   "execution_count": null,
   "id": "apart-england",
   "metadata": {},
   "outputs": [],
   "source": []
  },
  {
   "cell_type": "code",
   "execution_count": null,
   "id": "protected-immune",
   "metadata": {},
   "outputs": [],
   "source": []
  },
  {
   "cell_type": "markdown",
   "id": "challenging-purchase",
   "metadata": {},
   "source": [
    "# Earlier result:\n"
   ]
  },
  {
   "cell_type": "code",
   "execution_count": 64,
   "id": "sharing-jumping",
   "metadata": {},
   "outputs": [
    {
     "data": {
      "image/png": "[encoded data removed]",
      "text/plain": [
       "<Figure size 432x288 with 1 Axes>"
      ]
     },
     "metadata": {},
     "output_type": "display_data"
    }
   ],
   "source": [
    "#plt.plot(split, train_aucs, label = 'on crystal structures, existing', linewidth = 2)\n",
    "#plt.plot(split, train_aucs_dock, label = 'docked data, existing', linewidth = 2)\n",
    "#plt.plot(split, train_aucs_MFP, label = 'MFP, existing', linewidth = 2)\n",
    "plt.errorbar(split, test_auc_bootstrap, yerr = test_auc_bootstrap_std, label = 'on crystal structures, future', linewidth = 3)\n",
    "plt.errorbar(split, test_auc_bootstrap_MFP, yerr = test_auc_bootstrap_MFP_std, label = 'Ligand only (Morgan FP), future', linewidth = 3)\n",
    "plt.errorbar(split, test_auc_bootstrap_dock, yerr = test_auc_bootstrap_dock_std, label = 'docked data, future', linewidth = 3)\n",
    "plt.xlim([0.09, 1])\n",
    "plt.ylim([0.45, 1])\n",
    "plt.xlabel('Split (by time)')\n",
    "plt.ylabel('AUROC')\n",
    "plt.legend(bbox_to_anchor = (1.05, 1), loc='upper left')\n",
    "plt.savefig('predict_future_5fold-btsp_RS42.pdf')\n",
    "plt.show()"
   ]
  },
  {
   "cell_type": "code",
   "execution_count": null,
   "id": "noticed-clause",
   "metadata": {},
   "outputs": [],
   "source": []
  },
  {
   "cell_type": "code",
   "execution_count": null,
   "id": "floating-result",
   "metadata": {},
   "outputs": [],
   "source": []
  },
  {
   "cell_type": "code",
   "execution_count": null,
   "id": "leading-improvement",
   "metadata": {},
   "outputs": [],
   "source": []
  }
 ],
 "metadata": {
  "kernelspec": {
   "display_name": "Python 3",
   "language": "python",
   "name": "python3"
  },
  "language_info": {
   "codemirror_mode": {
    "name": "ipython",
    "version": 3
   },
   "file_extension": ".py",
   "mimetype": "text/x-python",
   "name": "python",
   "nbconvert_exporter": "python",
   "pygments_lexer": "ipython3",
   "version": "3.8.8"
  }
 },
 "nbformat": 4,
 "nbformat_minor": 5
}
