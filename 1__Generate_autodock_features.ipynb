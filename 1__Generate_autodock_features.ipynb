{
 "cells": [
  {
   "cell_type": "code",
   "execution_count": 1,
   "id": "official-listing",
   "metadata": {},
   "outputs": [],
   "source": [
    "from __future__ import division\n",
    "import pandas as pd\n",
    "import numpy as np\n",
    "import glob\n",
    "import seaborn as sns\n",
    "import matplotlib.pylab as plt\n",
    "import scipy\n",
    "\n",
    "from rdkit import Chem\n",
    "from rdkit.Chem import Descriptors\n",
    "from rdkit.Chem import AllChem\n",
    "from rdkit.Chem import PandasTools\n",
    "\n",
    "import oddt\n",
    "from oddt.scoring.descriptors import *\n"
   ]
  },
  {
   "cell_type": "code",
   "execution_count": null,
   "id": "pacific-forum",
   "metadata": {},
   "outputs": [],
   "source": []
  },
  {
   "cell_type": "code",
   "execution_count": null,
   "id": "overhead-might",
   "metadata": {},
   "outputs": [],
   "source": []
  },
  {
   "cell_type": "markdown",
   "id": "prepared-amber",
   "metadata": {},
   "source": [
    "# Read in all the structures and create autodock vina descirptors:"
   ]
  },
  {
   "cell_type": "code",
   "execution_count": 4,
   "id": "damaged-sunglasses",
   "metadata": {},
   "outputs": [
    {
     "name": "stdout",
     "output_type": "stream",
     "text": [
      "(3180, 22)\n",
      "(2943, 22)\n"
     ]
    },
    {
     "name": "stderr",
     "output_type": "stream",
     "text": [
      "<ipython-input-4-d44568e5a925>:16: SettingWithCopyWarning: \n",
      "A value is trying to be set on a copy of a slice from a DataFrame.\n",
      "Try using .loc[row_indexer,col_indexer] = value instead\n",
      "\n",
      "See the caveats in the documentation: https://pandas.pydata.org/pandas-docs/stable/user_guide/indexing.html#returning-a-view-versus-a-copy\n",
      "  allcompounds_final['filename_start'] = ['MPro_2021_03/aligned/' + str(x) for x in allcompounds_final['Dataset']]\n"
     ]
    },
    {
     "data": {
      "text/plain": [
       "(330, 26)"
      ]
     },
     "execution_count": 4,
     "metadata": {},
     "output_type": "execute_result"
    }
   ],
   "source": [
    "filenames_ligand = glob.glob('Data/MPro_2021_03/aligned/Mpro-*/*.sdf')\n",
    "filenames_protein = glob.glob('Data/MPro_2021_03/aligned/Mpro-*/*_apo-desolv.pdb')\n",
    "\n",
    "allcompounds = pd.read_excel('Data/MPro_2021_03/Mpro_compound_tracker_excel.xlsx')\n",
    "print(allcompounds.shape)\n",
    "\n",
    "#Filter out covalent binders:\n",
    "ignore = ['Ugi', 'piperazine-chloroacetamide']\n",
    "allcompounds = allcompounds[~allcompounds['Postera series'].isin(ignore)]\n",
    "print(allcompounds.shape)\n",
    "\n",
    "#Filter downto only these that have a structure determined:\n",
    "compounds = pd.Series([f.split('/')[-1].split('_')[0] for f in filenames_protein])\n",
    "allcompounds['structure'] = allcompounds['Dataset'].isin(compounds)\n",
    "allcompounds_final = allcompounds[allcompounds['structure'] == True]\n",
    "allcompounds_final['filename_start'] = ['MPro_2021_03/aligned/' + str(x) for x in allcompounds_final['Dataset']]\n",
    "allcompounds_final = allcompounds_final.reset_index(drop = True)\n",
    "allcompounds_final['protein_filename'] = [str(x) + '_0A/' + x.split('/')[-1] +  '_0A_apo-desolv.pdb' for x in allcompounds_final['filename_start']]\n",
    "allcompounds_final['ligand_filename'] = [str(x) + '_0A/' + x.split('/')[-1] +  '_0A.sdf' for x in allcompounds_final['filename_start']]\n",
    "allcompounds_final.shape"
   ]
  },
  {
   "cell_type": "code",
   "execution_count": null,
   "id": "productive-london",
   "metadata": {},
   "outputs": [],
   "source": [
    "AV = autodock_vina_descriptor()\n",
    "AVDs_all = np.zeros((allcompounds_final.shape[0], 6))\n",
    "for i in range(0, allcompounds_final['ligand_filename'].shape[0]):\n",
    "    ligand_sdf = next(oddt.toolkit.readfile('sdf', allcompounds_final['ligand_filename'].iloc[i]))\n",
    "    protein = next(oddt.toolkit.readfile('pdb', allcompounds_final['protein_filename'].iloc[i]))\n",
    "    protein.protein = True\n",
    "    AVDs_all[i,:] = AV.build(protein = protein, ligands = ligand_sdf)\n",
    "AVD_df = pd.DataFrame(AVDs_all)\n",
    "full_df_AV = pd.concat([allcompounds_final, AVD_df], axis = 1)\n",
    "full_df_AV.to_csv('autodock_vina_structures.csv', sep = '\\t')"
   ]
  },
  {
   "cell_type": "code",
   "execution_count": null,
   "id": "fatty-broadcast",
   "metadata": {},
   "outputs": [],
   "source": []
  },
  {
   "cell_type": "code",
   "execution_count": null,
   "id": "decent-comedy",
   "metadata": {},
   "outputs": [],
   "source": []
  },
  {
   "cell_type": "markdown",
   "id": "acceptable-absorption",
   "metadata": {},
   "source": [
    "# Create also Autodock vina descriptors for all the docked structures:"
   ]
  },
  {
   "cell_type": "code",
   "execution_count": null,
   "id": "quality-island",
   "metadata": {},
   "outputs": [],
   "source": [
    "\n",
    "\n",
    "'''\n",
    "OV = oddt_vina_descriptor()\n",
    "OVDs_all = np.zeros((allcompounds_final.shape[0], 12))\n",
    "for i in range(0, allcompounds_final['ligand_filename'].shape[0]):\n",
    "    ligand_sdf = next(oddt.toolkit.readfile('sdf', allcompounds_final['ligand_filename'].iloc[i]))\n",
    "    protein = next(oddt.toolkit.readfile('pdb', allcompounds_final['protein_filename'].iloc[i]))\n",
    "    protein.protein = True\n",
    "    OVDs_all[i,:] = OV.build(protein = protein, ligands = ligand_sdf)\n",
    "OVD_df = pd.DataFrame(OVDs_all)\n",
    "full_df_OV = pd.concat([allcompounds_final, OVD_df], axis = 1)\n",
    "full_df_OV.to_csv('oddt_vina_descriptors.csv', sep = '\\t')\n",
    "'''"
   ]
  }
 ],
 "metadata": {
  "kernelspec": {
   "display_name": "Python 3",
   "language": "python",
   "name": "python3"
  },
  "language_info": {
   "codemirror_mode": {
    "name": "ipython",
    "version": 3
   },
   "file_extension": ".py",
   "mimetype": "text/x-python",
   "name": "python",
   "nbconvert_exporter": "python",
   "pygments_lexer": "ipython3",
   "version": "3.8.8"
  }
 },
 "nbformat": 4,
 "nbformat_minor": 5
}
